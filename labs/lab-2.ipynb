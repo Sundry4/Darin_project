{
 "cells": [
  {
   "cell_type": "markdown",
   "metadata": {},
   "source": [
    "# L2 – Multilayer perceptron\n",
    "\n",
    "### PyTorch\n",
    "1. [Installing PyTorch](https://pytorch.org/get-started/locally/)\n",
    "2. [What is PyTorch?](https://pytorch.org/tutorials/beginner/blitz/tensor_tutorial.html#sphx-glr-beginner-blitz-tensor-tutorial-py)\n",
    "3. [Autograd](https://pytorch.org/tutorials/beginner/blitz/autograd_tutorial.html#sphx-glr-beginner-blitz-autograd-tutorial-py)\n",
    "4. [Useful examples](https://pytorch.org/tutorials/beginner/pytorch_with_examples.html)\n",
    "5. [Mnist example](https://habr.com/company/otus/blog/358096/)\n",
    "\n",
    "\n",
    "### One more thing\n",
    "1. [Jupyter tutorial](https://habrahabr.ru/company/wunderfund/blog/316826/)\n",
    "2. [Plot.ly](https://plot.ly/python/)\n",
    "3. [Widgets](http://jupyter.org/widgets.html)"
   ]
  },
  {
   "cell_type": "code",
   "execution_count": 6,
   "metadata": {},
   "outputs": [],
   "source": [
    "from __future__ import print_function\n",
    "import torch\n",
    "import torch.nn as nn\n",
    "import torch.optim as optim\n",
    "import torch.nn.functional as F\n",
    "\n",
    "import matplotlib\n",
    "import numpy as np\n",
    "from scipy import linalg\n",
    "import math\n",
    "import random\n",
    "from sklearn.model_selection import KFold\n",
    "\n",
    "import matplotlib.cm as cm\n",
    "import matplotlib.pyplot as plt\n",
    "import gzip, pickle\n",
    "import time\n",
    "\n",
    "import torchvision\n",
    "from torchvision import transforms"
   ]
  },
  {
   "cell_type": "markdown",
   "metadata": {},
   "source": [
    "### 1. Linear multi-classification problem\n",
    "\n",
    "We have already learned binary linear classifier\n",
    "$$y = \\text{sign}(w^Tx).$$\n",
    "There are [several approaches](https://en.wikipedia.org/wiki/Multiclass_classification) to solve the problem of multi-class classification. For example [reduction](https://en.wikipedia.org/wiki/Multiclass_classification#Transformation_to_Binary) of problem to binary classifier or [modification](https://en.wikipedia.org/wiki/Support_vector_machine#Multiclass_SVM) of the known model. However we are interested in approaches that is applied in neural networks.\n",
    "\n",
    "For each class $c \\in 1, \\dots, |C|$ we have an individual row $w_i$ of matrix $W$. Then the probability of $x$ belonging to a particular class is equal to\n",
    "$$p_i = \\frac{\\exp(w^T_ix)}{\\sum_j \\exp(w^T_jx)}.$$\n",
    "This is nothing, but [softmax](https://en.wikipedia.org/wiki/Softmax_function) function of $Wx$.\n",
    "$$(p_1, \\dots, p_{|C|}) = \\text{softmax}(Wx).$$\n",
    "\n",
    "If you look closely, $\\text{softmax}$ is a more general variant of sigmoid. To see this, it suffices to consider the case $|C|=2$. As usual the training can be reduced to minimization of the empirical risk, namely, optimization problem\n",
    "$$\\arg\\min_W Q(W) = \\arg\\min_W -\\frac{1}{\\mathcal{l}}\\sum_y\\sum_i [y = i] \\cdot \\ln(p_i(W)).$$\n",
    "Actually, the maximization of the log-likelihood is written above.\n",
    "\n",
    "#### Exercises\n",
    "1. Find $\\frac{dQ}{dW}$ in matrix form (hint: start with $\\frac{dQ}{dw_i}$ for begining).\n",
    "2. Please plot several mnist images (e.g using grid 5x5).\n",
    "3. Train linear multi-label classifier for [mnist](https://www.kaggle.com/c/digit-recognizer) dataset (possible, [this tutorial](https://habr.com/company/otus/blog/358096/) can help you).\n",
    "4. Chek accuracy on train and validation sets (visualize resulted graph)."
   ]
  },
  {
   "cell_type": "markdown",
   "metadata": {},
   "source": [
    "$$\\{-{1\\over l} \\sum\\limits_y \\sum\\limits_i [y = i] \\cdot \\ln\\frac{e^{w_i^Tx}}{\\sum\\limits_k e^{w_k^Tx}} \\}'_{w_j} = $$ $$ = \\{-{1\\over l} \\sum\\limits_y \\sum\\limits_i [y = i] \\cdot \\left(w_i^Tx - \\ln{\\sum\\limits_k e^{w_k^Tx}}\\right) \\}'_{w_j} = $$ $$ = -{1\\over l} \\sum\\limits_y \\sum\\limits_i [y = i] \\cdot \\left([i = j] \\cdot (x - \\frac{xe^{w_j^Tx}}{\\sum\\limits_k e^{w_k^Tx}}) - [i \\neq j] \\cdot \\frac{xe^{w_j^Tx}}{\\sum\\limits_k e^{w_k^Tx}}\\right) = $$ $$ = -{1\\over l} \\sum\\limits_y \\sum\\limits_i [y = i] \\cdot \\left([i = j] \\cdot x - \\frac{xe^{w_j^Tx}}{\\sum\\limits_k e^{w_k^Tx}}\\right) =$$ $$ = -{x\\over l} \\sum\\limits_y \\left([y = i] - \\frac{e^{w_j^Tx}}{\\sum\\limits_k e^{w_k^Tx}}\\right) $$\n",
    "\n",
    "Matrix $\\frac{dQ}{dW}$ contains vectors $\\frac{dQ}{dw_i}$ as columns"
   ]
  },
  {
   "cell_type": "code",
   "execution_count": 2,
   "metadata": {
    "collapsed": true
   },
   "outputs": [],
   "source": [
    "with gzip.open('mnist.pkl.gz','rb') as ff :\n",
    "     u = pickle._Unpickler( ff )\n",
    "     u.encoding = 'latin1'\n",
    "     train, val, test = u.load()\n",
    "\n",
    "train_x, train_y = train\n",
    "val_x, val_y = val\n",
    "test_x, test_y = test"
   ]
  },
  {
   "cell_type": "code",
   "execution_count": 117,
   "metadata": {},
   "outputs": [
    {
     "data": {
      "image/png": "[encoded data removed]",
      "text/plain": [
       "<matplotlib.figure.Figure at 0x7f85e6403eb8>"
      ]
     },
     "metadata": {},
     "output_type": "display_data"
    }
   ],
   "source": [
    "fig = plt.figure(figsize=(6, 6))\n",
    "for i in range(25):\n",
    "    fig.add_subplot(5, 5, i + 1)\n",
    "    plt.imshow(train_x[i].reshape(28, 28), cmap='Greys')\n",
    "plt.show()"
   ]
  },
  {
   "cell_type": "markdown",
   "metadata": {},
   "source": [
    "## Training"
   ]
  },
  {
   "cell_type": "code",
   "execution_count": 9,
   "metadata": {
    "collapsed": true
   },
   "outputs": [],
   "source": [
    "class Net(nn.Module):\n",
    "    def __init__(self):\n",
    "        super(Net, self).__init__()\n",
    "        self.fc1 = nn.Linear(784, 100)\n",
    "        self.fc2 = nn.Linear(100, 10)\n",
    "\n",
    "    def forward(self, x):\n",
    "        x = x.view(-1, 28*28)\n",
    "        x = F.relu(self.fc1(x))\n",
    "        x = self.fc2(x)\n",
    "        x = F.log_softmax(x, dim=1)\n",
    "        return x"
   ]
  },
  {
   "cell_type": "code",
   "execution_count": 11,
   "metadata": {
    "collapsed": true
   },
   "outputs": [],
   "source": [
    "def train():\n",
    "    data = np.array(train_x)\n",
    "    data = torch.from_numpy(data).float()\n",
    "    target = np.array(train_y)\n",
    "    target = torch.from_numpy(target).long()\n",
    "    \n",
    "    optimizer.zero_grad()\n",
    "    output = model(data)\n",
    "    loss = F.cross_entropy(output, target)\n",
    "    loss.backward()\n",
    "    optimizer.step()"
   ]
  },
  {
   "cell_type": "code",
   "execution_count": 12,
   "metadata": {
    "collapsed": true
   },
   "outputs": [],
   "source": [
    "def test(log=None):\n",
    "    with torch.no_grad():\n",
    "        \n",
    "        # test\n",
    "        data = np.array(test_x)\n",
    "        data = torch.from_numpy(data).float()\n",
    "\n",
    "        target = np.array(test_y)\n",
    "        target = torch.from_numpy(target).long()\n",
    "    \n",
    "        output = model(data)\n",
    "        test_loss = F.cross_entropy(output, target, reduction='sum').data.item()\n",
    "        pred = output.data.max(1, keepdim=True)[1]\n",
    "        test_correct = pred.eq(target.data.view_as(pred)).sum()\n",
    "\n",
    "        test_loss /= len(test_y)\n",
    "        test_correct_percent = 100. * test_correct / len(test_y)\n",
    "        \n",
    "        # train\n",
    "        data = np.array(train_x)\n",
    "        data = torch.from_numpy(data).float()\n",
    "\n",
    "        target = np.array(train_y)\n",
    "        target = torch.from_numpy(target).long()\n",
    "        \n",
    "        output = model(data)\n",
    "        train_loss = F.cross_entropy(output, target, reduction='sum').data.item()\n",
    "        pred = output.data.max(1, keepdim=True)[1]\n",
    "        train_correct = pred.eq(target.data.view_as(pred)).sum()\n",
    "        \n",
    "        train_loss /= len(train_y)\n",
    "        train_correct_percent = 100. * train_correct / len(train_y)\n",
    "\n",
    "    log['test'].append((test_loss, test_correct_percent))\n",
    "    log['train'].append((train_loss, train_correct_percent))"
   ]
  },
  {
   "cell_type": "code",
   "execution_count": 421,
   "metadata": {},
   "outputs": [
    {
     "name": "stdout",
     "output_type": "stream",
     "text": [
      "\n",
      "Test set:  Average loss: 0.2557, Accuracy: 92%\n",
      "Train set: Average loss: 0.2540, Accuracy: 92%\n",
      "\n"
     ]
    }
   ],
   "source": [
    "model = Net()\n",
    "optimizer = optim.Adam(model.parameters(), lr=0.01)\n",
    "log = {'test': [], 'train': []}\n",
    "\n",
    "epoch = 30\n",
    "for i in range(epoch):\n",
    "    train()\n",
    "    test(log)\n",
    "\n",
    "print('\\nTest set:  Average loss: {:.4f}, Accuracy: {:.0f}%'.format(\n",
    "    log['test'][-1][0], log['test'][-1][1]))\n",
    "\n",
    "print('Train set: Average loss: {:.4f}, Accuracy: {:.0f}%\\n'.format(\n",
    "    log['train'][-1][0], log['train'][-1][1]))"
   ]
  },
  {
   "cell_type": "markdown",
   "metadata": {},
   "source": [
    "## Plotting graphs"
   ]
  },
  {
   "cell_type": "code",
   "execution_count": 400,
   "metadata": {},
   "outputs": [
    {
     "data": {
      "image/png": "[encoded data removed]",
      "text/plain": [
       "<matplotlib.figure.Figure at 0x7fe058836518>"
      ]
     },
     "metadata": {},
     "output_type": "display_data"
    }
   ],
   "source": [
    "plt.figure(figsize=(8, 8))\n",
    "keys = log.keys()\n",
    "logs = {k:[z for z in zip(*log[k])] for k in keys}\n",
    "epochs = {k:range(len(log[k])) for k in keys}\n",
    "\n",
    "handlers, = zip(*[plt.plot(epochs[k], logs[k][1], label=k) for k in keys])\n",
    "plt.title('accuracy')\n",
    "plt.xlabel('epoch')\n",
    "plt.ylabel('accuracy')\n",
    "plt.legend(handles=handlers)\n",
    "plt.show()"
   ]
  },
  {
   "cell_type": "markdown",
   "metadata": {},
   "source": [
    "Let's briefly touch on themes of regularization. As was discussed before, there are different approaches. We focus on the modification of loss function.\n",
    "\n",
    "$$\\arg\\min_W -\\frac{1}{\\mathcal{l}}\\sum_y\\sum_i [y = i] \\cdot \\ln(p_i(W)) + \\lambda_1 L_1(W) + \\lambda_2 L_2(W)$$\n",
    "\n",
    "1. $L_1(W) = sum_{i,j} |w_{i,j}|$ - sparsify weights (force to not use uncorrelated features)\n",
    "2. $L_2(W) = sum_{i,j} w_{i,j}^2$ - minimize weights (force to not overfit)\n",
    "\n",
    "#### Exercises\n",
    "1. Train model again using both type of regularization.\n",
    "2. Plot matrix of weights.\n",
    "3. Which pixels have zero weights? What does it mean?\n",
    "4. Have you improved accuracy on validation?"
   ]
  },
  {
   "cell_type": "code",
   "execution_count": 3,
   "metadata": {
    "collapsed": true
   },
   "outputs": [],
   "source": [
    "def L1L2train():\n",
    "    data = np.array(train_x)\n",
    "    data = torch.from_numpy(data).float()\n",
    "    target = np.array(train_y)\n",
    "    target = torch.from_numpy(target).long()\n",
    "    \n",
    "    lamb1 = 1.3\n",
    "    lamb2 = 10\n",
    "    \n",
    "    optimizer.zero_grad()\n",
    "    output = model(data)\n",
    "    loss = F.cross_entropy(output, target)\n",
    "    L1 = torch.norm(model.fc1.weight.data, 1) + torch.norm(model.fc2.weight.data, 1)\n",
    "    L2 = torch.norm(model.fc1.weight.data ** 2, 2) + torch.norm(model.fc2.weight.data ** 2, 2)\n",
    "    loss += lamb1 * L1 + lamb2 * L2\n",
    "    # print(loss.item(), lamb1 * L1.item())\n",
    "    \n",
    "    loss.backward()\n",
    "    optimizer.step()"
   ]
  },
  {
   "cell_type": "code",
   "execution_count": 398,
   "metadata": {},
   "outputs": [
    {
     "name": "stdout",
     "output_type": "stream",
     "text": [
      "\n",
      "Test set:  Loss: 1.5375, Accuracy: 92%\n",
      "Train set: Loss: 1.5372, Accuracy: 92%\n",
      "\n"
     ]
    }
   ],
   "source": [
    "model = Net()\n",
    "optimizer = optim.Adam(model.parameters(), lr=0.01)\n",
    "L1L2log = {'test': [], 'train': []}\n",
    "\n",
    "epoch = 50\n",
    "for i in range(epoch):\n",
    "    L1L2train()\n",
    "    test(L1L2log)\n",
    "\n",
    "print('\\nTest set:  Loss: {:.4f}, Accuracy: {:.0f}%'.format(\n",
    "    L1L2log['test'][-1][0], L1L2log['test'][-1][1]))\n",
    "\n",
    "print('Train set: Loss: {:.4f}, Accuracy: {:.0f}%\\n'.format(\n",
    "    L1L2log['train'][-1][0], L1L2log['train'][-1][1]))"
   ]
  },
  {
   "cell_type": "code",
   "execution_count": 401,
   "metadata": {},
   "outputs": [
    {
     "data": {
      "image/png": "[encoded data removed]",
      "text/plain": [
       "<matplotlib.figure.Figure at 0x7fe070b9c358>"
      ]
     },
     "metadata": {},
     "output_type": "display_data"
    }
   ],
   "source": [
    "plt.figure(figsize=(8, 8))\n",
    "keys = L1L2log.keys()\n",
    "logs = {k:[z for z in zip(*L1L2log[k])] for k in keys}\n",
    "epochs = {k:range(len(L1L2log[k])) for k in keys}\n",
    "\n",
    "handlers, = zip(*[plt.plot(epochs[k], logs[k][1], label=k) for k in keys])\n",
    "plt.title('L1L2 accuracy')\n",
    "plt.xlabel('epoch')\n",
    "plt.ylabel('accuracy')\n",
    "plt.legend(handles=handlers)\n",
    "plt.show()"
   ]
  },
  {
   "cell_type": "markdown",
   "metadata": {},
   "source": [
    "### 2. Universal approximation theorem\n",
    "\n",
    "What if we add more layers to our model? Namely, we train two matrix $W_2$ and $W_1$\n",
    "$$softmax(W_2\\cdot(W_1x)).$$\n",
    "\n",
    "At first glance adding more parameters helps to increase the generalizing ability of the model. Buy actually we have the same model $softmax(Wx)$, where $W = W_2\\cdot W_1$. But everyting changes with adding ome more layer. Let's add nonlinear function $\\sigma$ between $W_2$ and $W_1$\n",
    "\n",
    "$$softmax(W_2\\cdot \\sigma(W_1x)).$$\n",
    "\n",
    "Kurt Hornik showed in 1991 that it is not the specific choice of the nonlinear function, but rather the multilayer feedforward architecture itself which gives neural networks the potential of being universal approximators. The output units are always assumed to be linear. For notational convenience, only the single output case will be shown. The general case can easily be deduced from the single output case.\n",
    "\n",
    "Let $\\sigma(\\cdot)$ be a nonconstant, bounded, and monotonically-increasing continuous function.\n",
    "Let $\\mathcal{S}_m \\subset \\mathbb{R}^m$ denote any compact set. \n",
    "Then, given any $\\varepsilon > 0$ and any coninuous function $f$ on $\\mathcal{S}_m$, there exist an integer $N$ and real constants $v_i$, $b_i$ amd real vectors $w_i$ that\n",
    "\n",
    "$$\\left| \\sum _{i=1}^{N}v_{i}\\sigma \\left( w_i^{T} x+b_i \\right) - f(x) \\right| < \\varepsilon, ~~~ \\forall x \\in \\mathcal{S}_m.$$\n",
    "\n",
    "The theorem has non-constructive proof, it meams that no estimates for $N$ and no method to find approximation's parameters.\n",
    "\n",
    "#### Exercises\n",
    "1. Let $\\sigma$ – [heaviside step function](https://en.wikipedia.org/wiki/Heaviside_step_function) and $x \\in \\{0, 1\\}^2$. Prove that $y = \\sigma(wx + b)$ can approximate boolean function **OR** (hint: use constructive proof).\n",
    "2. What about **AND** function?\n",
    "3. Is it possible to implement **XOR**? Prove your words.\n",
    "4. Prove that 2-layer network can implement any boolean function.\n",
    "\n",
    "#### More useful facts:\n",
    "1. A 2-layer network in in $\\mathbb{R}^n$ allows to define convex polyhedron..\n",
    "2. A 3-layer network in в $\\mathbb{R}^n$ allows to define a not necessarily convex and not even necessarily connected area."
   ]
  },
  {
   "cell_type": "markdown",
   "metadata": {},
   "source": [
    "#### OR:\n",
    "\n",
    "Let $w = (1, 1)~$ and $~b = -0.5$.\n",
    "\n",
    "Then $wx = x_1 + x_2$\n",
    "\n",
    "1. $x = [0, 0] ~\\to~ y = \\sigma(0 + 0 - 0.5) = 0$\n",
    "2. $x = [0, 1] ~\\to~ y = \\sigma(0 + 1 - 0.5) = 1$\n",
    "3. $x = [1, 0] ~\\to~ y = \\sigma(1 + 0 - 0.5) = 1$\n",
    "4. $x = [1, 1] ~\\to~ y = \\sigma(1 + 1 - 0.5) = 1$\n",
    "\n",
    "Great! We have OR.\n",
    "\n",
    "\n",
    "#### AND:\n",
    "\n",
    "Let $w = (1, 1)~$ and $~b = -1.5$.\n",
    "\n",
    "Then $wx = x_1 + x_2$\n",
    "\n",
    "1. $x = [0, 0] ~\\to~ y = \\sigma(0 + 0 - 1.5) = 0$\n",
    "2. $x = [0, 1] ~\\to~ y = \\sigma(0 + 1 - 1.5) = 0$\n",
    "3. $x = [1, 0] ~\\to~ y = \\sigma(1 + 0 - 1.5) = 0$\n",
    "4. $x = [1, 1] ~\\to~ y = \\sigma(1 + 1 - 1.5) = 1$\n",
    "\n",
    "Great! We have AND.\n",
    "\n",
    "\n",
    "#### XOR:\n",
    "\n",
    "$0\\oplus 0 = 1\\oplus 1 = 0$\n",
    "\n",
    "$0\\oplus 1 = 1\\oplus 0 = 1$\n",
    "\n",
    "$wx = w_1x_1 + w_2x_2$\n",
    "\n",
    "So, $b < 0~$ and $~w_1 + w_2 + b < 0; ~~w_1 + b \\geq 0~$ and $~w_2 + b \\geq 0$\n",
    "\n",
    "Then, $~w_1 + w_2 + 2b < 0~$ and $~w_1 + w_2 + 2b \\geq 0$\n",
    "\n",
    "That is wrong, so we can't implement XOR.\n",
    "\n",
    "\n",
    "#### Implemention of boolean function\n",
    "\n",
    "Every boolean function can be implemented as a CNF.\n",
    "\n",
    "So, the first layer will represent CNF ifself and second layer will represent disjuncts."
   ]
  },
  {
   "cell_type": "markdown",
   "metadata": {},
   "source": [
    "# 3. Backpropagation\n",
    "Backpropagation is a method used to calculate the error contribution of each layer after a batch of data. It is a special case of an older and more general technique called automatic differentiation. In the context of learning, backpropagation is commonly used by the gradient descent optimization algorithm to adjust the weight of layers by calculating the gradient of the loss function. This technique is also sometimes called backward propagation of errors, because the error is calculated at the output and distributed back through the network layers. The main motivation of method is simplify evaluation of gradient which is complex problem for multilayer nets.\n",
    "\n",
    "We need the following notation. Let $(y^1,\\dots,y^n) = f(x^1,\\dots,x^n)$ is some differentiable function and $\\frac{dy}{dx}$ is matrix\n",
    "$$\\frac{dy}{dx} = \\Big[ J_{ij} = \\frac{\\partial y^i}{\\partial x^j} \\Big]$$\n",
    "\n",
    "Without violating the generality, we can assume that each layer is a function $x_{i} = f(x_{i-1}, w_i)$. As last layer we add loss function, so we can assume our multi-layer net as function $Q(x_0) = Q(f_n(f_{n-1}(\\dots, w_{n-1}), w_n))$.\n",
    "\n",
    "#### Forward step\n",
    "Propagation forward through the network to generate the output values. Calculation of the loss function.\n",
    "\n",
    "#### Backward step\n",
    "Let's look at last layer. We can simply find $\\frac{dQ}{dx_n}$. Now we can evaluate \n",
    "\n",
    "$$\\frac{dQ}{dw_n} = \\frac{dQ}{dx_n}\\frac{dx_n}{dw_n} \\text{ and } \\frac{dQ}{dx_{n-1}} = \\frac{dQ}{dx_n}\\frac{dx_n}{dx_{n-1}}$$\n",
    "\n",
    "Now we need calculate $\\frac{dQ}{dw_{n-2}}$ и $\\frac{dQ}{dx_{n-2}}$. But we have the same situation. We know $\\frac{dQ}{dx_k}$, so can evaluate $\\frac{dQ}{dw_k}$ and $\\frac{dQ}{dx_{k-1}}$. Repeating this operation we find all the gradients. Now it's only remains to make a gradient step to update weights.\n",
    "\n",
    "#### Exercises\n",
    "1. Read more about [vanishing gradient](https://en.wikipedia.org/wiki/Vanishing_gradient_problem).\n",
    "2. Train 2 layer net. Use sigmoid as nonlinearity.\n",
    "3. Check accuracy on validation set.\n",
    "4. Use [ReLu](https://en.wikipedia.org/wiki/Rectifier_(neural_networks) or LeakyReLu as nonlinearity. Compare accuracy and convergence with previous model.\n",
    "5. Play with different architectures (add more layers, regularization and etc).\n",
    "6. Show your best model.\n",
    "7. How does quality change with adding layers. Prove your words, train model for 2, 3, 5, 7 and 10 layers.\n",
    "8. Using backpropagation find optimal  digit 8 for your net.*"
   ]
  },
  {
   "cell_type": "markdown",
   "metadata": {},
   "source": [
    "### Sigmoid"
   ]
  },
  {
   "cell_type": "code",
   "execution_count": 13,
   "metadata": {
    "collapsed": true
   },
   "outputs": [],
   "source": [
    "class SigmoidNet(nn.Module):\n",
    "    def __init__(self):\n",
    "        super(SigmoidNet, self).__init__()\n",
    "        self.fc1 = nn.Linear(784, 100)\n",
    "        self.fc2 = nn.Linear(100, 10)\n",
    "\n",
    "    def forward(self, x):\n",
    "        x = x.view(-1, 28*28)\n",
    "        x = torch.sigmoid(self.fc1(x))\n",
    "        x = self.fc2(x)\n",
    "        x = F.log_softmax(x, dim=1)\n",
    "        return x"
   ]
  },
  {
   "cell_type": "code",
   "execution_count": 14,
   "metadata": {},
   "outputs": [
    {
     "name": "stdout",
     "output_type": "stream",
     "text": [
      "\n",
      "Test set:  Average loss: 0.3548, Accuracy: 89%\n",
      "Train set: Average loss: 0.3659, Accuracy: 89%\n",
      "\n"
     ]
    }
   ],
   "source": [
    "model = SigmoidNet()\n",
    "optimizer = optim.Adam(model.parameters(), lr=0.01)\n",
    "log = {'test': [], 'train': []}\n",
    "\n",
    "epoch = 30\n",
    "for i in range(epoch):\n",
    "    train()\n",
    "    test(log)\n",
    "\n",
    "print('\\nTest set:  Average loss: {:.4f}, Accuracy: {:.0f}%'.format(\n",
    "    log['test'][-1][0], log['test'][-1][1]))\n",
    "\n",
    "print('Train set: Average loss: {:.4f}, Accuracy: {:.0f}%\\n'.format(\n",
    "    log['train'][-1][0], log['train'][-1][1]))"
   ]
  },
  {
   "cell_type": "markdown",
   "metadata": {},
   "source": [
    "### 3-layer model (The best one)"
   ]
  },
  {
   "cell_type": "code",
   "execution_count": 29,
   "metadata": {
    "collapsed": true
   },
   "outputs": [],
   "source": [
    "class Layer3Net(nn.Module):\n",
    "    def __init__(self):\n",
    "        super(Layer3Net, self).__init__()\n",
    "        self.fc1 = nn.Linear(784, 450)\n",
    "        self.fc2 = nn.Linear(450, 100)\n",
    "        self.fc3 = nn.Linear(100, 10)\n",
    "\n",
    "    def forward(self, x):\n",
    "        x = x.view(-1, 28*28)\n",
    "        x = F.leaky_relu(self.fc1(x))\n",
    "        x = F.leaky_relu(self.fc2(x))\n",
    "        x = F.leaky_relu(self.fc3(x))\n",
    "        x = F.log_softmax(x, dim=1)\n",
    "        return x"
   ]
  },
  {
   "cell_type": "code",
   "execution_count": 28,
   "metadata": {},
   "outputs": [
    {
     "name": "stdout",
     "output_type": "stream",
     "text": [
      "\n",
      "Test set:  Average loss: 0.1956, Accuracy: 94%\n",
      "Train set: Average loss: 0.1957, Accuracy: 94%\n",
      "\n"
     ]
    }
   ],
   "source": [
    "model = Layer3Net()\n",
    "optimizer = optim.Adam(model.parameters(), lr=0.01)\n",
    "log = {'test': [], 'train': []}\n",
    "\n",
    "epoch = 30\n",
    "for i in range(epoch):\n",
    "    train()\n",
    "    test(log)\n",
    "\n",
    "print('\\nTest set:  Average loss: {:.4f}, Accuracy: {:.0f}%'.format(\n",
    "    log['test'][-1][0], log['test'][-1][1]))\n",
    "\n",
    "print('Train set: Average loss: {:.4f}, Accuracy: {:.0f}%\\n'.format(\n",
    "    log['train'][-1][0], log['train'][-1][1]))"
   ]
  },
  {
   "cell_type": "markdown",
   "metadata": {},
   "source": [
    "### Regularization 3-layer model"
   ]
  },
  {
   "cell_type": "code",
   "execution_count": 30,
   "metadata": {},
   "outputs": [
    {
     "name": "stdout",
     "output_type": "stream",
     "text": [
      "\n",
      "Test set:  Average loss: 0.2108, Accuracy: 93%\n",
      "Train set: Average loss: 0.2169, Accuracy: 93%\n",
      "\n"
     ]
    }
   ],
   "source": [
    "model = Layer3Net()\n",
    "optimizer = optim.Adam(model.parameters(), lr=0.01)\n",
    "log = {'test': [], 'train': []}\n",
    "\n",
    "epoch = 30\n",
    "for i in range(epoch):\n",
    "    L1L2train()\n",
    "    test(log)\n",
    "\n",
    "print('\\nTest set:  Average loss: {:.4f}, Accuracy: {:.0f}%'.format(\n",
    "    log['test'][-1][0], log['test'][-1][1]))\n",
    "\n",
    "print('Train set: Average loss: {:.4f}, Accuracy: {:.0f}%\\n'.format(\n",
    "    log['train'][-1][0], log['train'][-1][1]))"
   ]
  },
  {
   "cell_type": "markdown",
   "metadata": {},
   "source": [
    "### 4-layer model"
   ]
  },
  {
   "cell_type": "code",
   "execution_count": 19,
   "metadata": {
    "collapsed": true
   },
   "outputs": [],
   "source": [
    "class Layer4Net(nn.Module):\n",
    "    def __init__(self):\n",
    "        super(Layer4Net, self).__init__()\n",
    "        self.fc1 = nn.Linear(784, 600)\n",
    "        self.fc2 = nn.Linear(600, 300)\n",
    "        self.fc3 = nn.Linear(300, 100)\n",
    "        self.fc4 = nn.Linear(100, 10)\n",
    "        \n",
    "    def forward(self, x):\n",
    "        x = x.view(-1, 28*28)\n",
    "        x = F.leaky_relu(self.fc1(x))\n",
    "        x = F.leaky_relu(self.fc2(x))\n",
    "        x = F.leaky_relu(self.fc3(x))\n",
    "        x = F.leaky_relu(self.fc4(x))\n",
    "        x = F.log_softmax(x, dim=1)\n",
    "        return x"
   ]
  },
  {
   "cell_type": "code",
   "execution_count": 20,
   "metadata": {},
   "outputs": [
    {
     "name": "stdout",
     "output_type": "stream",
     "text": [
      "\n",
      "Test set:  Average loss: 0.3307, Accuracy: 90%\n",
      "Train set: Average loss: 0.3274, Accuracy: 90%\n",
      "\n"
     ]
    }
   ],
   "source": [
    "model = Layer4Net()\n",
    "optimizer = optim.Adam(model.parameters(), lr=0.01)\n",
    "log = {'test': [], 'train': []}\n",
    "\n",
    "epoch = 30\n",
    "for i in range(epoch):\n",
    "    train()\n",
    "    test(log)\n",
    "\n",
    "print('\\nTest set:  Average loss: {:.4f}, Accuracy: {:.0f}%'.format(\n",
    "    log['test'][-1][0], log['test'][-1][1]))\n",
    "\n",
    "print('Train set: Average loss: {:.4f}, Accuracy: {:.0f}%\\n'.format(\n",
    "    log['train'][-1][0], log['train'][-1][1]))"
   ]
  },
  {
   "cell_type": "markdown",
   "metadata": {},
   "source": [
    "### 4. Autoencoders\n",
    "An autoencoder is an network used for unsupervised learning of efficient codings. The aim of an autoencoder is to learn a representation (encoding) for a set of data, typically for the purpose of dimensionality reduction. Also, this technique can be used to train deep nets.\n",
    "\n",
    "Architecturally, the simplest form of an autoencoder is a feedforward net very similar to the multilayer perceptron (MLP), but with the output layer having the same number of nodes as the input layer, and with the purpose of reconstructing its own inputs. Therefore, autoencoders are unsupervised learning models. An autoencoder always consists of two parts, the encoder and the decoder. Encoder returns latent representation of the object (compressed representation, usuallu smaller dimension), but decoder restores object from this latent representation. Autoencoders are also trained to minimise reconstruction errors (e.g. MSE).\n",
    "\n",
    "Various techniques exist to prevent autoencoders from learning the identity and to improve their ability to capture important information:\n",
    "1. Denoising autoencoder - take a partially corrupted input.\n",
    "2. Sparse autoencoder - impose sparsity on the hidden units during training (whilst having a larger number of hidden units than inputs).\n",
    "3. Variational autoencoder models inherit autoencoder architecture, but make strong assumptions concerning the distribution of latent variables.\n",
    "4. Contractive autoencoder - add an explicit regularizer in objective function that forces the model to learn a function that is robust to slight variations of input values.\n",
    "\n",
    "#### Exercises\n",
    "1. Train 2 layers autoencoder that compressed mnist images to $\\mathbb{R}^3$ space.\n",
    "2. For each digit plot several samples in 3D axis (use \"%matplotlib notebook\" mode or plotly). How do digits group?\n",
    "3. Train autoencoder with more layers. What are results?\n",
    "4. Use autoencoder to pretrain 2 layers (unsupervised) and then train the following layers with supervised method."
   ]
  },
  {
   "cell_type": "code",
   "execution_count": 8,
   "metadata": {},
   "outputs": [],
   "source": [
    "from torchvision.datasets import MNIST\n",
    "\n",
    "img_transform = transforms.Compose([\n",
    "    transforms.ToTensor(),\n",
    "    transforms.Normalize((0.5, 0.5, 0.5), (0.5, 0.5, 0.5))\n",
    "])\n",
    "\n",
    "batch_size = 64\n",
    "\n",
    "dataset = MNIST('./data', download = True, transform=img_transform)\n",
    "dataloader = torch.utils.data.DataLoader(dataset, batch_size=batch_size, shuffle=True)"
   ]
  },
  {
   "cell_type": "code",
   "execution_count": 75,
   "metadata": {},
   "outputs": [],
   "source": [
    "class autoencoder(nn.Module):\n",
    "    def __init__(self):\n",
    "        super(autoencoder, self).__init__()\n",
    "        self.encoder = nn.Sequential(\n",
    "            nn.Linear(784, 200),\n",
    "            nn.ReLU(True),\n",
    "            nn.Linear(200, 3)\n",
    "        )\n",
    "        self.decoder = nn.Sequential(\n",
    "            nn.Linear(3, 200),\n",
    "            nn.ReLU(True),\n",
    "            nn.Linear(200, 784),\n",
    "            nn.Tanh()\n",
    "        )\n",
    "\n",
    "    def forward(self, x):\n",
    "        x = self.encoder(x)\n",
    "        x = self.decoder(x)\n",
    "        return x"
   ]
  },
  {
   "cell_type": "code",
   "execution_count": 76,
   "metadata": {},
   "outputs": [],
   "source": [
    "def autoencoder_train():\n",
    "    k = 0\n",
    "    for data, target in dataloader:\n",
    "        data = data.view(len(data), -1)\n",
    "\n",
    "        output = model(data)\n",
    "        loss = loss_type(output, data)\n",
    "\n",
    "        optimizer.zero_grad()\n",
    "        loss.backward()\n",
    "        optimizer.step()\n",
    "        if (k % 1000 == 0):\n",
    "            print(\"Curr loss:\", loss.item())\n",
    "        k += 1"
   ]
  },
  {
   "cell_type": "code",
   "execution_count": 77,
   "metadata": {},
   "outputs": [
    {
     "name": "stdout",
     "output_type": "stream",
     "text": [
      "EPOCH 1\n",
      "Curr loss: 0.9471866488456726\n",
      "EPOCH 2\n",
      "Curr loss: 0.49165502190589905\n",
      "EPOCH 3\n",
      "Curr loss: 0.4678955078125\n",
      "EPOCH 4\n",
      "Curr loss: 0.4682696759700775\n",
      "EPOCH 5\n",
      "Curr loss: 0.5023223161697388\n",
      "EPOCH 6\n",
      "Curr loss: 0.4771406650543213\n",
      "EPOCH 7\n",
      "Curr loss: 0.46119949221611023\n",
      "EPOCH 8\n",
      "Curr loss: 0.47082823514938354\n",
      "EPOCH 9\n",
      "Curr loss: 0.4610612392425537\n",
      "EPOCH 10\n",
      "Curr loss: 0.4672383666038513\n"
     ]
    }
   ],
   "source": [
    "model = autoencoder()\n",
    "optimizer = optim.Adam(model.parameters(), lr=0.01)\n",
    "loss_type = nn.MSELoss()\n",
    "\n",
    "epoch = 10\n",
    "for i in range(epoch):\n",
    "    print(\"EPOCH\", i + 1)\n",
    "    autoencoder_train()"
   ]
  },
  {
   "cell_type": "code",
   "execution_count": 78,
   "metadata": {},
   "outputs": [
    {
     "data": {
      "image/png": "[encoded data removed]",
      "text/plain": [
       "<Figure size 432x432 with 25 Axes>"
      ]
     },
     "metadata": {
      "needs_background": "light"
     },
     "output_type": "display_data"
    }
   ],
   "source": [
    "fig = plt.figure(figsize=(6, 6))\n",
    "data, target = next(iter(dataloader))\n",
    "for i in range(25):\n",
    "    fig.add_subplot(5, 5, i + 1)\n",
    "    plt.imshow(data[i].reshape(28, 28), cmap='Greys')\n",
    "plt.show()"
   ]
  },
  {
   "cell_type": "code",
   "execution_count": 79,
   "metadata": {},
   "outputs": [
    {
     "data": {
      "image/png": "[encoded data removed]",
      "text/plain": [
       "<Figure size 432x432 with 25 Axes>"
      ]
     },
     "metadata": {
      "needs_background": "light"
     },
     "output_type": "display_data"
    }
   ],
   "source": [
    "data = data.view(len(data), -1)\n",
    "\n",
    "result = model(data).detach().numpy()\n",
    "\n",
    "fig = plt.figure(figsize=(6, 6))\n",
    "for i in range(25):\n",
    "    fig.add_subplot(5, 5, i + 1)\n",
    "    plt.imshow(result[i].reshape(28, 28), cmap='Greys')\n",
    "plt.show()"
   ]
  },
  {
   "cell_type": "markdown",
   "metadata": {},
   "source": [
    "### 3-layer autoencoder"
   ]
  },
  {
   "cell_type": "code",
   "execution_count": 68,
   "metadata": {},
   "outputs": [],
   "source": [
    "class autoencoder3Layer(nn.Module):\n",
    "    def __init__(self):\n",
    "        super(autoencoder3Layer, self).__init__()\n",
    "        self.encoder = nn.Sequential(\n",
    "            nn.Linear(784, 300),\n",
    "            nn.ReLU(True),\n",
    "            nn.Linear(300, 100),\n",
    "            nn.ReLU(True),\n",
    "            nn.Linear(100, 3)\n",
    "        )\n",
    "        self.decoder = nn.Sequential(\n",
    "            nn.Linear(3, 100),\n",
    "            nn.ReLU(True),\n",
    "            nn.Linear(100, 300),\n",
    "            nn.ReLU(True),\n",
    "            nn.Linear(300, 784),\n",
    "            nn.Tanh()\n",
    "        )\n",
    "\n",
    "    def forward(self, x):\n",
    "        x = self.encoder(x)\n",
    "        x = self.decoder(x)\n",
    "        return x"
   ]
  },
  {
   "cell_type": "code",
   "execution_count": 69,
   "metadata": {},
   "outputs": [
    {
     "name": "stdout",
     "output_type": "stream",
     "text": [
      "EPOCH 1\n",
      "Curr loss: 0.9315431714057922\n",
      "EPOCH 2\n",
      "Curr loss: 0.20110924541950226\n",
      "EPOCH 3\n",
      "Curr loss: 0.18525484204292297\n",
      "EPOCH 4\n",
      "Curr loss: 0.17187272012233734\n",
      "EPOCH 5\n",
      "Curr loss: 0.18024080991744995\n",
      "EPOCH 6\n",
      "Curr loss: 0.1885274350643158\n",
      "EPOCH 7\n",
      "Curr loss: 0.16280214488506317\n",
      "EPOCH 8\n",
      "Curr loss: 0.17674243450164795\n",
      "EPOCH 9\n",
      "Curr loss: 0.16331622004508972\n",
      "EPOCH 10\n",
      "Curr loss: 0.17504461109638214\n"
     ]
    }
   ],
   "source": [
    "model = autoencoder3Layer()\n",
    "optimizer = optim.Adam(model.parameters(), lr=0.01)\n",
    "\n",
    "epoch = 10\n",
    "for i in range(epoch):\n",
    "    print(\"EPOCH\", i + 1)\n",
    "    autoencoder_train()"
   ]
  },
  {
   "cell_type": "code",
   "execution_count": 70,
   "metadata": {},
   "outputs": [
    {
     "data": {
      "image/png": "[encoded data removed]",
      "text/plain": [
       "<Figure size 432x432 with 25 Axes>"
      ]
     },
     "metadata": {
      "needs_background": "light"
     },
     "output_type": "display_data"
    }
   ],
   "source": [
    "fig = plt.figure(figsize=(6, 6))\n",
    "data, target = next(iter(dataloader))\n",
    "for i in range(25):\n",
    "    fig.add_subplot(5, 5, i + 1)\n",
    "    plt.imshow(data[i].reshape(28, 28), cmap='Greys')\n",
    "plt.show()"
   ]
  },
  {
   "cell_type": "code",
   "execution_count": 71,
   "metadata": {},
   "outputs": [
    {
     "data": {
      "image/png": "[encoded data removed]",
      "text/plain": [
       "<Figure size 432x432 with 25 Axes>"
      ]
     },
     "metadata": {
      "needs_background": "light"
     },
     "output_type": "display_data"
    }
   ],
   "source": [
    "data = data.view(len(data), -1)\n",
    "\n",
    "result = model(data).detach().numpy()\n",
    "\n",
    "fig = plt.figure(figsize=(6, 6))\n",
    "for i in range(25):\n",
    "    fig.add_subplot(5, 5, i + 1)\n",
    "    plt.imshow(result[i].reshape(28, 28), cmap='Greys')\n",
    "plt.show()"
   ]
  }
 ],
 "metadata": {
  "kernelspec": {
   "display_name": "Python 3",
   "language": "python",
   "name": "python3"
  },
  "language_info": {
   "codemirror_mode": {
    "name": "ipython",
    "version": 3
   },
   "file_extension": ".py",
   "mimetype": "text/x-python",
   "name": "python",
   "nbconvert_exporter": "python",
   "pygments_lexer": "ipython3",
   "version": "3.7.1"
  }
 },
 "nbformat": 4,
 "nbformat_minor": 1
}
